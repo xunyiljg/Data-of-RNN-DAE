{
 "cells": [
  {
   "cell_type": "markdown",
   "metadata": {},
   "source": [
    "# Please first decompress the compressed files of each subfolder. The program shows the power estimation results of five models in RNN-DAE paper for the same period of unseen house."
   ]
  },
  {
   "cell_type": "code",
   "execution_count": 1,
   "metadata": {},
   "outputs": [],
   "source": [
    "import numpy as np\n",
    "import matplotlib.pyplot as plt"
   ]
  },
  {
   "cell_type": "code",
   "execution_count": 2,
   "metadata": {},
   "outputs": [],
   "source": [
    "dish_inputs=np.loadtxt(r\"dish\\inputs.txt\")\n",
    "dish_results=np.loadtxt(r\"dish\\results.txt\")\n",
    "dish_pre_17dae=np.loadtxt(r\"dish\\predict-17年DAE.txt\")\n",
    "dish_fcn=np.loadtxt(r\"dish\\predict-fcn.txt\")\n",
    "dish_rnn_dae=np.loadtxt(r\"dish\\predict-RNN-DAE.txt\")\n",
    "dish_improvedrnn=np.loadtxt(r\"dish\\predict-lstm-attention.txt\")\n",
    "\n",
    "dish_seqx=np.loadtxt(r\"dish\\seq2point-X.txt\")\n",
    "dish_seqpre=np.loadtxt(r\"dish\\seq2point-preY.txt\")"
   ]
  },
  {
   "cell_type": "code",
   "execution_count": 3,
   "metadata": {},
   "outputs": [],
   "source": [
    "def deal(deal_tuple,l):\n",
    "    for i in deal_tuple:\n",
    "         i = i[299:299+1]\n",
    "    return deal_tuple"
   ]
  },
  {
   "cell_type": "code",
   "execution_count": 4,
   "metadata": {},
   "outputs": [],
   "source": [
    "dish_inputs,dish_results,dish_pre_17dae,dish_fcn,dish_rnn_dae,\n",
    "dish_improvedrnn=deal((dish_inputs,dish_results,dish_pre_17dae,dish_fcn,dish_rnn_dae,dish_improvedrnn), dish_seqx.shape[0])"
   ]
  },
  {
   "cell_type": "code",
   "execution_count": 5,
   "metadata": {},
   "outputs": [
    {
     "data": {
      "image/png": "[encoded data removed]",
      "text/plain": [
       "<Figure size 432x288 with 1 Axes>"
      ]
     },
     "metadata": {
      "needs_background": "light"
     },
     "output_type": "display_data"
    }
   ],
   "source": [
    "# Only the RNN-DAE model detects \n",
    "# the low-power part of the dishwasher, and the results look great.\n",
    "a=33000\n",
    "b=34500\n",
    "x=np.arange(1080000)\n",
    "\n",
    "#plt.plot(x,X[a:b].reshape(-1))\n",
    "# plt.plot(x[a:b],dish_inputs.reshape(-1)[a:b])\n",
    "plt.plot(x[a:b],dish_results.reshape(-1)[a:b])\n",
    "# plt.plot(x[a:b],dish_pre_17dae.reshape(-1)[a:b])\n",
    "# plt.plot(x[a:b],dish_seqpre.reshape(-1)[a:b])\n",
    "# plt.plot(x[a:b],dish_improvedrnn.reshape(-1)[a:b])\n",
    "plt.plot(x[a:b],dish_fcn.reshape(-1)[a:b])\n",
    "plt.plot(x[a:b],dish_rnn_dae.reshape(-1)[a:b])\n",
    "# plt.plot(x,Y[col*0:col*a].reshape(-1))\n",
    "\n",
    "plt.show()"
   ]
  },
  {
   "cell_type": "code",
   "execution_count": null,
   "metadata": {},
   "outputs": [],
   "source": [
    "fridge_inputs=np.loadtxt(r\"fridge\\inputs.txt\")\n",
    "fridge_results=np.loadtxt(r\"fridge\\results.txt\")\n",
    "fridge_pre_17dae=np.loadtxt(r\"fridge\\pre-17年dae.txt\")\n",
    "fridge_fcn=np.loadtxt(r\"fridge\\pre-FCN.txt\")\n",
    "fridge_rnn_dae=np.loadtxt(r\"fridge\\pre-rnn-dae.txt\")\n",
    "fridge_improvedrnn=np.loadtxt(r\"fridge\\pre-lstm-attention.txt\")\n",
    "\n",
    "fridge_seqx=np.loadtxt(r\"fridge\\seq2point-X.txt\")\n",
    "fridge_seqpre=np.loadtxt(r\"fridge\\seq2point-preY.txt\")\n",
    "fridge_inputs,fridge_results,fridge_pre_17dae,fridge_fcn,fridge_rnn_dae,\n",
    "fridge_improvedrnn=deal((fridge_inputs,fridge_results,fridge_pre_17dae,fridge_fcn,fridge_rnn_dae,fridge_improvedrnn), fridge_seqx.shape[0])\n",
    "print(fridge_seqpre.shape)"
   ]
  },
  {
   "cell_type": "code",
   "execution_count": null,
   "metadata": {},
   "outputs": [],
   "source": [
    "import matplotlib.pyplot as plt #3000 13000\n",
    "a=27000\n",
    "b=32000\n",
    "x=np.arange(1080000)\n",
    "\n",
    "#plt.plot(x,X[a:b].reshape(-1))\n",
    "plt.plot(x[a:b],fridge_inputs.reshape(-1)[a:b])\n",
    "plt.plot(x[a:b],fridge_results.reshape(-1)[a:b])\n",
    "\n",
    "plt.plot(x[a:b],fridge_fcn.reshape(-1)[a:b])\n",
    "plt.plot(x[a:b],fridge_rnn_dae.reshape(-1)[a:b])\n",
    "\n",
    "plt.show()"
   ]
  },
  {
   "cell_type": "code",
   "execution_count": null,
   "metadata": {},
   "outputs": [],
   "source": [
    "#washing\n",
    "washing_inputs=np.loadtxt(r\"washing\\inputs.txt\")\n",
    "washing_results=np.loadtxt(r\"washing\\results.txt\")\n",
    "washing_pre_17dae=np.loadtxt(r\"washing\\pre-17dae.txt\")\n",
    "washing_fcn=np.loadtxt(r\"washing\\pre-fcn.txt\")\n",
    "washing_rnn_dae=np.loadtxt(r\"washing\\pre-rnn-dae.txt\")\n",
    "washing_improvedrnn=np.loadtxt(r\"washing\\pre-lstm-attention.txt\")\n",
    "\n",
    "washing_seqx=np.loadtxt(r\"washing\\seq2point-X.txt\")\n",
    "washing_seqpre=np.loadtxt(r\"washing\\seq2point-preY.txt\")\n",
    "washing_inputs,washing_results,washing_pre_17dae,washing_fcn,washing_rnn_dae,washing_improvedrnn=deal((washing_inputs,washing_results,washing_pre_17dae,washing_fcn,washing_rnn_dae,washing_improvedrnn), washing_seqx.shape[0])\n",
    "print(washing_seqpre.shape)"
   ]
  },
  {
   "cell_type": "code",
   "execution_count": null,
   "metadata": {},
   "outputs": [],
   "source": [
    "# washing machine waveform in this unseen scenario(house2) is different from that \n",
    "# of the training set houses, so the result is not good. A feasible \n",
    "# solution is to collect more data from household washing machines for training.\n",
    "import matplotlib.pyplot as plt\n",
    "a=769900\n",
    "b=770400\n",
    "x=np.arange(1080000)\n",
    "\n",
    "plt.plot(x[a:b],washing_results.reshape(-1)[a:b])\n",
    "\n",
    "plt.plot(x[a:b],washing_fcn.reshape(-1)[a:b])\n",
    "plt.plot(x[a:b],washing_rnn_dae.reshape(-1)[a:b])\n",
    "\n",
    "plt.show()"
   ]
  }
 ],
 "metadata": {
  "kernelspec": {
   "display_name": "GPU",
   "language": "python",
   "name": "gpu"
  },
  "language_info": {
   "codemirror_mode": {
    "name": "ipython",
    "version": 3
   },
   "file_extension": ".py",
   "mimetype": "text/x-python",
   "name": "python",
   "nbconvert_exporter": "python",
   "pygments_lexer": "ipython3",
   "version": "3.7.0"
  }
 },
 "nbformat": 4,
 "nbformat_minor": 2
}
